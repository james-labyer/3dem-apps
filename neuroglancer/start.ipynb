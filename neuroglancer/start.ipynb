{
 "cells": [
  {
   "cell_type": "markdown",
   "metadata": {},
   "source": [
    "# How to Run Neuroglancer"
   ]
  },
  {
   "cell_type": "markdown",
   "metadata": {
    "jp-MarkdownHeadingCollapsed": true
   },
   "source": [
    "To start Neuroglancer, run the start script below by going to Run > Run All Cells and clicking on the link produced by the start script.\n",
    "\n",
    "The start script will open Neuroglancer preloaded with example images. You can change the images through the start script or from within the Neuroglancer UI once it is open.\n",
    "\n",
    "### *This notebook is editable, but will be replaced with a fresh copy of the original file each time you run this job. To save your edits, go to File > Save Notebook As... and rename the file.*"
   ]
  },
  {
   "cell_type": "markdown",
   "metadata": {},
   "source": [
    "## Start Script"
   ]
  },
  {
   "cell_type": "markdown",
   "metadata": {},
   "source": [
    "This script is sourced from this [Quick Start guide](https://connectomics.readthedocs.io/en/latest/external/neuroglancer.html). The example dataset in this script is published on this [site](https://www.janelia.org/project-team/flyem/data-and-software-release) and described in this [paper](http://dx.doi.org/10.1016/j.cell.2015.06.054).\n"
   ]
  },
  {
   "cell_type": "code",
   "execution_count": null,
   "metadata": {
    "collapsed": false,
    "jupyter": {
     "outputs_hidden": false
    },
    "scrolled": true
   },
   "outputs": [],
   "source": [
    "import neuroglancer\n",
    "\n",
    "ip = 'localhost' #or public IP of the machine for sharable display\n",
    "port = 9999 #change to an unused port number\n",
    "neuroglancer.set_server_bind_address(bind_address=ip,bind_port=port)\n",
    "\n",
    "viewer = neuroglancer.Viewer()\n",
    "\n",
    "with viewer.txn() as s:\n",
    "    s.layers['image'] = neuroglancer.ImageLayer(source='precomputed://gs://neuroglancer-janelia-flyem-hemibrain/emdata/clahe_yz/jpeg/')\n",
    "    s.layers['segmentation'] = neuroglancer.SegmentationLayer(source='precomputed://gs://neuroglancer-janelia-flyem-hemibrain/v1.0/segmentation', selected_alpha=0.3)\n",
    "\n",
    "print(viewer)\n",
    "\n",
    "# Once you run the start script, a link will appear below this cell. Click on that link to open Neuroglancer in a new tab."
   ]
  },
  {
   "cell_type": "markdown",
   "metadata": {},
   "source": [
    "## Customizing Neuroglancer"
   ]
  },
  {
   "cell_type": "markdown",
   "metadata": {},
   "source": [
    "Neuroglancer can be further customized using Python and Jupyter notebooks. For more examples of Neuroglancer customization, see the [Neuroglancer GitHub](https://github.com/google/neuroglancer/tree/master/python/examples) and the [connectomics documentation](https://connectomics.readthedocs.io/en/latest/external/neuroglancer.html).\n",
    "\n",
    "Remember to save your customizations in another file if you want to use them again. Click on the Jupyter icon in the top left corner of the screen to access other Jupyter notebooks saved in your scratch directory."
   ]
  },
  {
   "cell_type": "code",
   "execution_count": null,
   "metadata": {},
   "outputs": [],
   "source": []
  }
 ],
 "metadata": {
  "kernelspec": {
   "display_name": "Python 3 (ipykernel)",
   "language": "python",
   "name": "python3"
  },
  "language_info": {
   "codemirror_mode": {
    "name": "ipython",
    "version": 3
   },
   "file_extension": ".py",
   "mimetype": "text/x-python",
   "name": "python",
   "nbconvert_exporter": "python",
   "pygments_lexer": "ipython3",
   "version": "3.13.3"
  }
 },
 "nbformat": 4,
 "nbformat_minor": 4
}
